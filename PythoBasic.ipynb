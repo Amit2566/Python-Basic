{
  "nbformat": 4,
  "nbformat_minor": 0,
  "metadata": {
    "colab": {
      "provenance": []
    },
    "kernelspec": {
      "name": "python3",
      "display_name": "Python 3"
    },
    "language_info": {
      "name": "python"
    }
  },
  "cells": [
    {
      "cell_type": "markdown",
      "source": [
        "#Python Basic"
      ],
      "metadata": {
        "id": "dxOq1qToHOD7"
      }
    },
    {
      "cell_type": "markdown",
      "source": [
        "1. What is Python, and why is it popular?\n",
        "\n",
        "  Answer: Python is a high-level, interpreted programming language created by Guido van Rossum in 1991. It is known for its simple, readable syntax and versatility in areas like web development, data analysis, AI/ML, and automation.\n",
        "\n",
        "  Python is popular because it combines simplicity with power. Its syntax is easy to read and write, making it beginner-friendly, yet it offers advanced features for professionals. It is highly versatile, being used in fields like web development, data science, machine learning, automation, and game development.\n",
        "\n",
        "2. What is an interpreter in Python?\n",
        "\n",
        "  Answer: An interpreter in Python is a program that reads and executes Python code line by line instead of compiling the entire program into machine code beforehand. When you write Python code, the interpreter translates it into an intermediate form called bytecode, which is then executed by the Python Virtual Machine (PVM).\n",
        "\n",
        "3. What are pre-defined keywords in Python?\n",
        "\n",
        "  Answer: Pre-defined keywords in Python are special reserved words that have a fixed meaning in the language and cannot be used as identifiers (like variable names, function names, or class names).\n",
        "  Examples: if, else, while, true, false, break, continue, etc.\n",
        "\n",
        "4. Can keywords be used as variable names?\n",
        "\n",
        "  Answer: keywords cannot be used as variable names in Python because they are reserved words with special meaning in the language.\n",
        "\n",
        "5. What is mutability in Python?\n",
        "\n",
        "  Answer: Mutability in Python is a property that determines whether the contents of an object can be changed after the object has been created. In simple terms, if an object is mutable, its elements or values can be altered without creating a new object in memory. On the other hand, if an object is immutable, any change to its value results in the creation of a new object, leaving the original object unchanged.\n",
        "\n",
        "  For example, Python’s list, dictionary, and set types are mutable because you can add, remove, or modify elements directly. However, data types such as strings, tuples, and integers are immutable, meaning that any operation that appears to “change” them actually creates a new object in memory.\n",
        "\n",
        "6. Why are lists mutable, but tuples are immutable?\n",
        "\n",
        "  Answer: A list is intended to store a sequence of elements that can change over time. You can modify its contents by adding, removing, or updating elements without creating a new list object. Internally, lists are implemented as dynamic arrays that can resize themselves, allowing in-place modifications. This makes lists flexible and well-suited for situations where data needs to be updated frequently, such as maintaining a to-do list, collecting sensor readings, or storing items in a shopping cart.\n",
        "\n",
        "7. What is the difference between “==” and “is” operators in Python?\n",
        "\n",
        "  Answer: In Python, the == and is operators are different because they compare in two different ways — one checks values, and the other checks identity.\n",
        "\n",
        "  - == (Equality Operator)\n",
        "\n",
        "     Purpose: Compares the values of two objects. Returns True if the data inside the objects is the same, even if they are stored in different memory locations.\n",
        "\n",
        "  -  is (Identity Operator)\n",
        "\n",
        "      Purpose: Checks whether two variables refer to the exact same object in memory.\n",
        "      Returns True only if both variables point to the same memory address.\n",
        "\n",
        "8. What are logical operators in Python ?\n",
        "\n",
        "  Answer: Logical operators are used to combine or manipulate Boolean expressions, which evaluate to either True or False. They play an important role in decision-making, allowing programmers to create complex conditions in control statements such as if, while, and for.\n",
        "\n",
        "  Python provides three logical operators: and, or, and not.\n",
        "\n",
        "  -The and operator returns True only if both conditions being compared are True; if either condition is False, the result is False.\n",
        "\n",
        "  -The or operator returns True if at least one of the conditions is True; it only returns False when both conditions are False.\n",
        "\n",
        "  -The not operator is used to reverse the Boolean value of a condition, turning True into False and False into True.\n",
        "\n",
        "9. What is type casting in Python?\n",
        "\n",
        "  Answer: Type casting in Python is the process of converting a variable from one data type to another. It allows you to change how Python interprets the value of a variable, either temporarily or permanently.\n",
        "\n",
        "  Python supports two types of type casting:\n",
        "\n",
        "  1) Implicit Type Casting (Type Conversion) – Performed automatically by Python when converting a smaller data type to a larger data type to avoid data loss.\n",
        "\n",
        "  2) Explicit Type Casting (Type Conversion) – Done manually by the programmer using built-in functions like int(), float(), str(), list(), tuple().\n",
        "\n",
        "10. What is the difference between implicit and explicit type casting?\n",
        "\n",
        "  Answer: In Python, type casting refers to converting a value from one data type to another, and it can be done in two ways: implicit and explicit type casting.\n",
        "\n",
        "  Implicit type casting, also called type conversion, is performed automatically by the Python interpreter. It happens when two values of different but compatible data types are used in an expression. In such cases, Python converts the smaller or less precise type to a larger or more precise type to prevent data loss. For example, if an integer and a float are added, Python will automatically convert the integer to a float before performing the operation, ensuring the result retains decimal precision.\n",
        "\n",
        "  Explicit type casting, on the other hand, is done manually by the programmer using Python’s built-in functions such as int(), float(), str(), list(), and tuple(). This is used when a programmer wants to deliberately change a value’s data type. However, explicit casting can result in errors or data loss if the conversion is not possible or if the target type cannot represent the original value exactly—for instance, converting a string with non-numeric characters into an integer will raise an error.\n",
        "\n",
        "11. What is the purpose of conditional statements in Python?\n",
        "\n",
        "  Answer: The purpose of conditional statements in Python is to allow a program to make decisions and execute different blocks of code depending on whether a given condition is True or False. They help control the flow of execution so that certain actions are performed only when specific criteria are met. This makes programs more flexible, intelligent, and responsive to different inputs or situations.\n",
        "\n",
        "12. How does the elif statement work?\n",
        "\n",
        "  Answer: In Python, the elif statement is used to check multiple conditions in a sequence after an initial if condition.\n",
        "\n",
        "  When Python encounters an if–elif–else structure, it:\n",
        "\n",
        "  1) Evaluates the if condition first.\n",
        "\n",
        "      - If it is True, the corresponding block of code runs, and the rest of the elif/else blocks are skipped.\n",
        "\n",
        " 2) If the if condition is False, it moves to the first elif condition.\n",
        "\n",
        "  - If this condition is True, its block runs, and the remaining conditions are skipped.\n",
        "\n",
        "  3) If all if and elif conditions are False, the else block (if present) runs.\n",
        "\n",
        "13. What is the difference between for and while loops?\n",
        "\n",
        "  Answer: In Python, both for and while loops are used for iteration, but they differ in how they operate and in the situations where they are most appropriate.\n",
        "\n",
        "  A for loop is generally used when the number of iterations is known beforehand or when iterating directly over a sequence such as a list, tuple, string, or a range of numbers. In this case, the loop automatically fetches each element from the sequence until all items are processed. This makes for loops ideal for tasks like processing each element in a collection or executing a block of code a fixed number of times. For example, for i in range(5): will execute the loop body exactly five times, from i = 0 to i = 4.\n",
        "\n",
        "  A while loop is used when the number of iterations is not known in advance and depends on a certain condition being true. Before each iteration, the condition is evaluated; if it is true, the loop body executes, and if it becomes false, the loop stops. This makes while loops suitable for situations like reading data until the end of a file, waiting for user input, or running a process until a certain event occurs. For example, while count < 5: will run repeatedly until count reaches 5, regardless of how many steps that takes.\n",
        "\n",
        "14. Describe a scenario where a while loop is more suitable than a for loop.?\n",
        "\n",
        "  Answer: Let us consider a scenario were you are writing a program that asks the user to guess a secret number. You don’t know how many guesses the user will take, so you cannot predefine the number of iterations. In this case, a while loop is ideal because it will keep running until the user guesses correctly.\n",
        "\n"
      ],
      "metadata": {
        "id": "BQhkOn2SHUIB"
      }
    },
    {
      "cell_type": "code",
      "source": [
        "'''1. Write a Python program to print \"Hello, World!'''\n",
        "print(\"Hello, World!\")"
      ],
      "metadata": {
        "colab": {
          "base_uri": "https://localhost:8080/"
        },
        "id": "q3_vDz_WR6n7",
        "outputId": "f95ee24c-b03a-447b-f66f-af806bfd9b56"
      },
      "execution_count": 2,
      "outputs": [
        {
          "output_type": "stream",
          "name": "stdout",
          "text": [
            "Hello, World!\n"
          ]
        }
      ]
    },
    {
      "cell_type": "code",
      "execution_count": 5,
      "metadata": {
        "colab": {
          "base_uri": "https://localhost:8080/"
        },
        "id": "vl-LzIzFHGkj",
        "outputId": "d05a07b2-6a03-4ad0-cdce-eb051a9b0d26"
      },
      "outputs": [
        {
          "output_type": "stream",
          "name": "stdout",
          "text": [
            "My name is Amit\n",
            "I am 21 years old\n"
          ]
        }
      ],
      "source": [
        "'''2. Write a Python program that displays your name and age'''\n",
        "Name = \"Amit\"\n",
        "age = 21\n",
        "print(\"My name is\", Name)\n",
        "print(\"I am\", age, \"years old\")"
      ]
    },
    {
      "cell_type": "code",
      "source": [
        "'''3. Write code to print all the pre-defined keywords in Python using the keyword library'''\n",
        "import keyword\n",
        "\n",
        "print(\"Python Keywords are:\")\n",
        "print(keyword.kwlist)"
      ],
      "metadata": {
        "colab": {
          "base_uri": "https://localhost:8080/"
        },
        "id": "up90QmkBSA6j",
        "outputId": "e73b8158-9010-4fc6-83d3-96380d54c60f"
      },
      "execution_count": 6,
      "outputs": [
        {
          "output_type": "stream",
          "name": "stdout",
          "text": [
            "Python Keywords are:\n",
            "['False', 'None', 'True', 'and', 'as', 'assert', 'async', 'await', 'break', 'class', 'continue', 'def', 'del', 'elif', 'else', 'except', 'finally', 'for', 'from', 'global', 'if', 'import', 'in', 'is', 'lambda', 'nonlocal', 'not', 'or', 'pass', 'raise', 'return', 'try', 'while', 'with', 'yield']\n"
          ]
        }
      ]
    },
    {
      "cell_type": "code",
      "source": [
        "'''4. Write a program that checks if a given word is a Python keyword.'''\n",
        "import keyword\n",
        "\n",
        "word = input(\"Enter a word: \")\n",
        "if keyword.iskeyword(word):\n",
        "    print(f\"'{word}' is a Python keyword.\")\n",
        "else:\n",
        "    print(f\"'{word}' is NOT a Python keyword.\")"
      ],
      "metadata": {
        "colab": {
          "base_uri": "https://localhost:8080/"
        },
        "id": "L28AgDHySFrm",
        "outputId": "a333b390-e3ab-4b05-80ea-b369419f62a1"
      },
      "execution_count": 8,
      "outputs": [
        {
          "output_type": "stream",
          "name": "stdout",
          "text": [
            "Enter a word: no\n",
            "'no' is NOT a Python keyword.\n"
          ]
        }
      ]
    },
    {
      "cell_type": "code",
      "source": [
        "'''5. . Create a list and tuple in Python, and demonstrate how attempting to change an element works differently\n",
        "for each.'''\n",
        "my_list = [10, 20, 30]\n",
        "my_tuple = (10, 20, 30)\n",
        "\n",
        "print(\"Original list:\", my_list)\n",
        "my_list[1] = 200\n",
        "print(\"Modified list:\", my_list)\n",
        "\n",
        "print(\"\\nOriginal tuple:\", my_tuple)\n",
        "try:\n",
        "    my_tuple[1] = 200\n",
        "except TypeError as e:\n",
        "    print(\"Error:\", e)"
      ],
      "metadata": {
        "colab": {
          "base_uri": "https://localhost:8080/"
        },
        "id": "11vKQTHcSFgg",
        "outputId": "2d45265c-ffb2-4760-f55a-6dbb4672207b"
      },
      "execution_count": 9,
      "outputs": [
        {
          "output_type": "stream",
          "name": "stdout",
          "text": [
            "Original list: [10, 20, 30]\n",
            "Modified list: [10, 200, 30]\n",
            "\n",
            "Original tuple: (10, 20, 30)\n",
            "Error: 'tuple' object does not support item assignment\n"
          ]
        }
      ]
    },
    {
      "cell_type": "code",
      "source": [
        "'''6. Write a function to demonstrate the behavior of mutable and immutable arguments'''\n",
        "\n",
        "def modify_values(num, my_list):\n",
        "\n",
        "    num += 10\n",
        "\n",
        "    my_list.append(100)\n",
        "\n",
        "    print(\"Inside function:\")\n",
        "    print(\"num:\", num)\n",
        "    print(\"my_list:\", my_list)\n",
        "\n",
        "# Immutable example (int)\n",
        "number = 9\n",
        "\n",
        "# Mutable example (list)\n",
        "numbers_list = [1, 2, 3]\n",
        "\n",
        "print(\"Before function call:\")\n",
        "print(\"number:\", number)\n",
        "print(\"numbers_list:\", numbers_list)\n",
        "\n",
        "# Function call\n",
        "modify_values(number, numbers_list)\n",
        "\n",
        "print(\"\\nAfter function call:\")\n",
        "print(\"number:\", number)          # Unchanged\n",
        "print(\"numbers_list:\", numbers_list)  # Changed\n"
      ],
      "metadata": {
        "colab": {
          "base_uri": "https://localhost:8080/"
        },
        "id": "Ru9jjZtwSFVm",
        "outputId": "52c1a689-ac37-40d7-cdd3-884e2c68dc95"
      },
      "execution_count": 11,
      "outputs": [
        {
          "output_type": "stream",
          "name": "stdout",
          "text": [
            "Before function call:\n",
            "number: 9\n",
            "numbers_list: [1, 2, 3]\n",
            "Inside function:\n",
            "num: 19\n",
            "my_list: [1, 2, 3, 100]\n",
            "\n",
            "After function call:\n",
            "number: 9\n",
            "numbers_list: [1, 2, 3, 100]\n"
          ]
        }
      ]
    },
    {
      "cell_type": "code",
      "source": [
        "'''7.  Write a program that performs basic arithmetic operations on two user-input numbers.'''\n",
        "\n",
        "num1 = float(input(\"Enter the first number: \"))\n",
        "num2 = float(input(\"Enter the second number: \"))\n",
        "\n",
        "addition = num1 + num2\n",
        "subtraction = num1 - num2\n",
        "multiplication = num1 * num2\n",
        "\n",
        "if num2 != 0:\n",
        "    division = num1 / num2\n",
        "else:\n",
        "    division = \"Undefined (cannot divide by zero)\"\n",
        "\n",
        "print(\"\\nResults:\")\n",
        "print(\"Addition:\", addition)\n",
        "print(\"Subtraction:\", subtraction)\n",
        "print(\"Multiplication:\", multiplication)\n",
        "print(\"Division:\", division)\n"
      ],
      "metadata": {
        "colab": {
          "base_uri": "https://localhost:8080/"
        },
        "id": "jYMPB2P9SFJu",
        "outputId": "c98eb496-bdf3-4813-bcb3-9b94e546ec2a"
      },
      "execution_count": 12,
      "outputs": [
        {
          "output_type": "stream",
          "name": "stdout",
          "text": [
            "Enter the first number: 10\n",
            "Enter the second number: 50\n",
            "\n",
            "Results:\n",
            "Addition: 60.0\n",
            "Subtraction: -40.0\n",
            "Multiplication: 500.0\n",
            "Division: 0.2\n"
          ]
        }
      ]
    },
    {
      "cell_type": "code",
      "source": [
        "'''8. Write a program to demonstrate the use of logical operators.'''\n",
        "a = int(input(\"Enter the first number: \"))\n",
        "b = int(input(\"Enter the second number: \"))\n",
        "\n",
        "if a > 0 and b > 0:\n",
        "    print(\"Both numbers are positive.\")\n",
        "\n",
        "if a > 0 or b > 0:\n",
        "    print(\"At least one number is positive.\")\n",
        "\n",
        "if not (a > 0):\n",
        "    print(\"The first number is not positive.\")\n"
      ],
      "metadata": {
        "colab": {
          "base_uri": "https://localhost:8080/"
        },
        "id": "j8Dh_5SOSE_C",
        "outputId": "a8ccb2ad-4245-4083-d504-6d80e1cfec38"
      },
      "execution_count": 13,
      "outputs": [
        {
          "output_type": "stream",
          "name": "stdout",
          "text": [
            "Enter the first number: 52\n",
            "Enter the second number: 45\n",
            "Both numbers are positive.\n",
            "At least one number is positive.\n"
          ]
        }
      ]
    },
    {
      "cell_type": "code",
      "source": [
        "'''9. Write a Python program to convert user input from string to integer, float, and boolean types.'''\n",
        "user_input = input(\"Enter a value: \")\n",
        "\n",
        "try:\n",
        "    int_value = int(user_input)\n",
        "    print(\"Integer value:\", int_value)\n",
        "except ValueError:\n",
        "    print(\"Cannot convert to integer.\")\n",
        "\n",
        "try:\n",
        "    float_value = float(user_input)\n",
        "    print(\"Float value:\", float_value)\n",
        "except ValueError:\n",
        "    print(\"Cannot convert to float.\")\n",
        "\n",
        "bool_value = bool(user_input)\n",
        "print(\"Boolean value:\", bool_value)\n"
      ],
      "metadata": {
        "colab": {
          "base_uri": "https://localhost:8080/"
        },
        "id": "6O23qmeWSEyj",
        "outputId": "a83e1184-bf69-416c-dfd2-8cc5aaf51ae8"
      },
      "execution_count": 16,
      "outputs": [
        {
          "output_type": "stream",
          "name": "stdout",
          "text": [
            "Enter a value: 55\n",
            "Integer value: 55\n",
            "Float value: 55.0\n",
            "Boolean value: True\n"
          ]
        }
      ]
    },
    {
      "cell_type": "code",
      "source": [
        "'''10.  Write code to demonstrate type casting with list elements.'''\n",
        "\n",
        "str_list = [\"74\", \"69\", \"88\", \"45\"]\n",
        "\n",
        "print(\"Original list (strings):\", str_list)\n",
        "\n",
        "int_list = [int(x) for x in str_list]\n",
        "print(\"List after converting to integers:\", int_list)\n",
        "\n",
        "float_list = [float(x) for x in str_list]\n",
        "print(\"List after converting to floats:\", float_list)\n",
        "\n",
        "bool_list = [bool(x) for x in str_list]\n",
        "print(\"List after converting to booleans:\", bool_list)\n"
      ],
      "metadata": {
        "colab": {
          "base_uri": "https://localhost:8080/"
        },
        "id": "bFuv7CEKSEmT",
        "outputId": "fb8c42a0-a8d8-471e-a4b5-bb0da71fbc11"
      },
      "execution_count": 18,
      "outputs": [
        {
          "output_type": "stream",
          "name": "stdout",
          "text": [
            "Original list (strings): ['74', '69', '88', '45']\n",
            "List after converting to integers: [74, 69, 88, 45]\n",
            "List after converting to floats: [74.0, 69.0, 88.0, 45.0]\n",
            "List after converting to booleans: [True, True, True, True]\n"
          ]
        }
      ]
    },
    {
      "cell_type": "code",
      "source": [
        "'''11. Write a program that checks if a number is positive, negative, or zero.'''\n",
        "\n",
        "num = float(input(\"Enter a number: \"))\n",
        "\n",
        "if num > 0:\n",
        "    print(\"The number is Positive.\")\n",
        "elif num < 0:\n",
        "    print(\"The number is Negative.\")\n",
        "else:\n",
        "    print(\"The number is Zero.\")\n"
      ],
      "metadata": {
        "colab": {
          "base_uri": "https://localhost:8080/"
        },
        "id": "GLguIr9ZSEaQ",
        "outputId": "351948a4-5abb-435b-bc99-aac11d6e0d3e"
      },
      "execution_count": 19,
      "outputs": [
        {
          "output_type": "stream",
          "name": "stdout",
          "text": [
            "Enter a number: 40\n",
            "The number is Positive.\n"
          ]
        }
      ]
    },
    {
      "cell_type": "code",
      "source": [
        "'''12. Write a for loop to print numbers from 1 to 10'''\n",
        "for i in range(1, 11):\n",
        "  print(i)"
      ],
      "metadata": {
        "colab": {
          "base_uri": "https://localhost:8080/"
        },
        "id": "GIn8XpTFSEOl",
        "outputId": "9ba83704-44d7-4500-83a5-b86ca2a22ef4"
      },
      "execution_count": 21,
      "outputs": [
        {
          "output_type": "stream",
          "name": "stdout",
          "text": [
            "1\n",
            "2\n",
            "3\n",
            "4\n",
            "5\n",
            "6\n",
            "7\n",
            "8\n",
            "9\n",
            "10\n"
          ]
        }
      ]
    },
    {
      "cell_type": "code",
      "source": [
        "'''13. Write a Python program to find the sum of all even numbers between 1 and 50.'''\n",
        "total_sum = 0\n",
        "\n",
        "for num in range(1, 51):\n",
        "    if num % 2 == 0:\n",
        "        total_sum += num\n",
        "\n",
        "print(\"The sum of all even numbers between 1 and 50 is:\", total_sum)\n"
      ],
      "metadata": {
        "colab": {
          "base_uri": "https://localhost:8080/"
        },
        "id": "IjVCXy2HSEBe",
        "outputId": "fa06c2f7-ce7f-40b3-9563-244e3b69e329"
      },
      "execution_count": 22,
      "outputs": [
        {
          "output_type": "stream",
          "name": "stdout",
          "text": [
            "The sum of all even numbers between 1 and 50 is: 650\n"
          ]
        }
      ]
    },
    {
      "cell_type": "code",
      "source": [
        "'''14. Write a program to reverse a string using a while loop.'''\n",
        "\n",
        "string = input(\"Enter a string: \")\n",
        "reversed_string = \"\"\n",
        "\n",
        "index = len(string) - 1\n",
        "\n",
        "while index >= 0:\n",
        "    reversed_string += string[index]\n",
        "    index -= 1\n",
        "\n",
        "print(\"Reversed string:\", reversed_string)\n"
      ],
      "metadata": {
        "colab": {
          "base_uri": "https://localhost:8080/"
        },
        "id": "plFth2h3SDyq",
        "outputId": "7dac5660-c019-455c-d674-26228971462a"
      },
      "execution_count": 23,
      "outputs": [
        {
          "output_type": "stream",
          "name": "stdout",
          "text": [
            "Enter a string: amit\n",
            "Reversed string: tima\n"
          ]
        }
      ]
    },
    {
      "cell_type": "code",
      "source": [
        "'''15. Write a Python program to calculate the factorial of a number provided by the user using a while loop.'''\n",
        "\n",
        "num = int(input(\"Enter a number: \"))\n",
        "factorial = 1\n",
        "i = 1\n",
        "\n",
        "while i <= num:\n",
        "    factorial *= i\n",
        "    i += 1\n",
        "\n",
        "print(\"Factorial of\", num, \"is\", factorial)\n"
      ],
      "metadata": {
        "colab": {
          "base_uri": "https://localhost:8080/"
        },
        "id": "rQDV1Wl-SDbh",
        "outputId": "874d1edb-7fe1-4f1d-c378-22c8c53bfcb7"
      },
      "execution_count": 24,
      "outputs": [
        {
          "output_type": "stream",
          "name": "stdout",
          "text": [
            "Enter a number: 50\n",
            "Factorial of 50 is 30414093201713378043612608166064768844377641568960512000000000000\n"
          ]
        }
      ]
    }
  ]
}